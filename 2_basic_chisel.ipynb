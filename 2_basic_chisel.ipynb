{
 "cells": [
  {
   "cell_type": "markdown",
   "metadata": {},
   "source": [
    "![Chisel](https://chisel.eecs.berkeley.edu/assets/img/chisel_64.png)"
   ]
  },
  {
   "cell_type": "markdown",
   "metadata": {
    "collapsed": true
   },
   "source": [
    "# Module 2: Basic Chisel"
   ]
  },
  {
   "cell_type": "markdown",
   "metadata": {},
   "source": [
    "#### Written by Stevo Bailey, Edward Wang, and Richard Lin\n",
    "stevo@berkeley.edu, edwardw@berkeley.edu, richard.lin@berkeley.edu"
   ]
  },
  {
   "cell_type": "markdown",
   "metadata": {},
   "source": [
    "## Introduction"
   ]
  },
  {
   "cell_type": "markdown",
   "metadata": {},
   "source": [
    "Now that you're familiar with Scala, it's time to learn Chisel. Chisel is a hardware construction language (HCL), similar to a hardware design language but embedded in a higher level, functional programming language. The details and benefits of an HCL will be covered in later modules. This module introduces basic Chisel, which is quite similar to Verilog. Once the basics are understood, you can use them to construct parameterized generators and take full advantage of the language.\n",
    "\n",
    "Throughout this module, the goal will be to produce a linear feedback shift register (LFSR) in hardware. If you are unfamiliar with LFSRs, skim the [Wikipedia page](https://en.wikipedia.org/wiki/Linear-feedback_shift_register) first. To do this, we will need to understand how combinational logic, sequential logic, operators, and data types are all handled in Chisel.\n",
    "\n",
    "At a high level, the basic 4-bit LFSR circuit we will be building will look like:\n",
    "\n",
    "![LFSR-4](images/lfsr4.svg)"
   ]
  },
  {
   "cell_type": "markdown",
   "metadata": {},
   "source": [
    "## Setup"
   ]
  },
  {
   "cell_type": "markdown",
   "metadata": {},
   "source": [
    "Download and import Chisel."
   ]
  },
  {
   "cell_type": "code",
   "execution_count": null,
   "metadata": {
    "collapsed": false,
    "scrolled": true
   },
   "outputs": [],
   "source": [
    "import $ivy.`edu.berkeley.cs::chisel3:3.0-SNAPSHOT_2017-07-19`\n",
    "import $ivy.`edu.berkeley.cs::chisel-iotesters:1.1-SNAPSHOT_2017-07-19`\n",
    "import chisel3._\n",
    "import chisel3.util._\n",
    "import chisel3.iotesters.{ChiselFlatSpec, Driver, PeekPokeTester}"
   ]
  },
  {
   "cell_type": "markdown",
   "metadata": {},
   "source": [
    "## Combinational Logic\n",
    "### Data Types"
   ]
  },
  {
   "cell_type": "markdown",
   "metadata": {},
   "source": [
    "Chisel adds a set of hardware types to the Scala type system. Chisel types eventually map to wires and logic. Example declarations of Chisel literals and variables in various types are given below. `B` stands for boolean, which is functionally the same as a one-bit `UInt`. `U` stands for `UInt` or unsigned integer. `S` stands for `SInt` or signed integer. Note that the width of an `SInt` includes the sign bit, so a 4-bit `SInt` ranges from -8 to 7. Notice how all Chisel variables are Scala `val`s. Never use a Scala `var` for a hardware construct, since the construct may never change once defined, only its value may change.\n",
    "```scala\n",
    "// literals or constants:\n",
    "val foo = 4.U(8.W)\n",
    "val bar = -4.S(11.W)\n",
    "val qux = true.B\n",
    "    \n",
    "// variables or wires:\n",
    "val foo2 = UInt(8.W)\n",
    "val bar2 = SInt(11.W)\n",
    "val qux2 = Bool()\n",
    "```"
   ]
  },
  {
   "cell_type": "markdown",
   "metadata": {},
   "source": [
    "### Chisel Operators"
   ]
  },
  {
   "cell_type": "markdown",
   "metadata": {},
   "source": [
    "An overview of Chisel operators is given below. For a more complete list, consult the [Chisel3 cheatsheet](https://chisel.eecs.berkeley.edu/doc/chisel-cheatsheet3.pdf). "
   ]
  },
  {
   "cell_type": "markdown",
   "metadata": {
    "collapsed": false
   },
   "source": [
    "```scala\n",
    "// Colon equals assigns the value of the expression on the right-hand side to the variable on the left-hand side\n",
    "val foo = UInt(16.W)        // define a wire called foo of type unsigned integer with width 16 bits\n",
    "foo := io.a ^ io.b          // foo is assigned a XOR b (bitwise)\n",
    "io.z := foo                 // assigns foo to the output z\n",
    "    \n",
    "// Comparisons return a Chisel Bool type, NOT a Scala Boolean type!!\n",
    "val bar = io.a === io.b     // bar is 1 if a equals b, otherwise 0\n",
    "val qux = io.a =/= io.b     // qux is 1 if a does not equal b, otherwise 0\n",
    "val baz = io.a  >  io.b     // baz is 1 if a is greater than b, otherwise 0 (see also <, >=, and <=)\n",
    " \n",
    "// Bit-level and ternary operators \n",
    "val corge = io.a(10, 4)     // extracts bits 4, 5, 6, 7, 8, and 9 from the 16-bit input a (0 indexed)\n",
    "val waldo = io.a(15)        // extracts bit 15 from the 16-bit input a (the MSB)\n",
    "val plugh = Cat(io.a, io.b) // concatenates the two 16-bit inputs a and b into plugh, a 32-bit UInt\n",
    "val xyzzy = Mux(io.a < io.b, io.a, io.b) // assigns to xyzzy input a if a is less than b, otherwise input b\n",
    "  \n",
    "// Math operators\n",
    "val quux = io.a + io.b      // assigns to quux the sum of a and b; the width of quux is inferred\n",
    "val fred = io.a - io.b      // assigns to fred the difference between a and b; the width of fred is inferred\n",
    "val thud = io.a * io.b      // assigns to thud the product of a and b\n",
    "```"
   ]
  },
  {
   "cell_type": "markdown",
   "metadata": {},
   "source": [
    "Now that you have a cursory overview of operators, let's practice using them and data types with the following exercise. Write code that passes the test. First scroll down and view the tester, then modify the OperatorsExercise module in the indicated locations. Remember our goal of producing an LFSR. The input is a 4-bit word that we'll later store in a shift register. The result is the output of the LFSR (which will be fed back into the input of the shift register). Your task is to make the logic for an LFSR of the polynomial x<sup>4</sup>+x<sup>3</sup>+1. Note that the 1 is implicit, so bit 0 of the input is really x<sup>1</sup>.\n",
    "\n",
    "Graphically, the circuit looks like:\n",
    "\n",
    "![LFSR-4 combinational](images/lfsr4combinational.svg)"
   ]
  },
  {
   "cell_type": "code",
   "execution_count": null,
   "metadata": {
    "collapsed": false
   },
   "outputs": [],
   "source": [
    "class OperatorsExercise extends Module {\n",
    "  val io = IO(new Bundle {\n",
    "    val input = Input(UInt(4.W))\n",
    "    val result = Output(Bool())\n",
    "  })\n",
    "\n",
    "  // YOUR CODE GOES HERE\n",
    "  // Remember: seed and result are inside io, so access them with io.seed and io.result\n",
    "  // Also, there's no need to typecast between 1-bit UInts and Bools\n",
    "}"
   ]
  },
  {
   "cell_type": "code",
   "execution_count": null,
   "metadata": {
    "collapsed": false,
    "scrolled": true
   },
   "outputs": [],
   "source": [
    "// Create the test\n",
    "class OperatorsExerciseTester(c: OperatorsExercise) extends PeekPokeTester(c) {\n",
    "  for (i <- 0 until math.pow(2,4).toInt) {\n",
    "    poke(c.io.input, i)\n",
    "    expect(c.io.result, (i >> 2 & 1) ^ (i >> 3 & 1))\n",
    "  }\n",
    "}\n",
    "\n",
    "// Run the test!\n",
    "val works = Driver(() => new OperatorsExercise) {\n",
    "  c => new OperatorsExerciseTester(c)\n",
    "}\n",
    "println(works)"
   ]
  },
  {
   "cell_type": "markdown",
   "metadata": {},
   "source": [
    "## Sequential Logic"
   ]
  },
  {
   "cell_type": "markdown",
   "metadata": {},
   "source": [
    "_In the previous section, we built the combinational part of the LFSR - that is, given the simultaneous output of all the shift register bits, generate the bit to feed back in. In this section, we will build the sequential part, the shift registers themselves._\n",
    "\n",
    "The basic stateful element in Chisel is the register, or `Reg`. It keeps its current value through a clock cycle, and can optionally be updated with a new value that becomes visible at the next clock edge.\n",
    "\n",
    "_Chisel connects an implicit clock and reset line to all state elements. There are constructs for overriding this, for example in multi-clock designs, but we won't go into those here._\n",
    "\n",
    "A register can be constructed given a data type. For instance, a 2-bit unsigned integer register without initialization:\n",
    "```scala\n",
    "val myReg = Reg(UInt(2.W))\n",
    "```\n",
    "\n",
    "or with initialization (to 1 decimal). Both versions below are valid and do the same thing:\n",
    "```scala\n",
    "val myReg = RegInit(UInt(2.W), 1.U)\n",
    "val myReg = RegInit(1.U(2.W))\n",
    "```\n",
    "\n",
    "Its value can be updated with the `:=` operator. For example, this increments the register's value:\n",
    "```scala\n",
    "myReg := myReg + 1.U\n",
    "```\n",
    "\n",
    "Note that when read, it gives its current (stored) value, but the assignment doesn't take effect until the next clock edge.\n",
    "\n",
    "Below is an example which uses a register to implement a 2-bit wide counter, initializing at 1 and overflowing from 3 to zero. Run the block and take a look at the output trace.\n",
    "\n",
    "![LFSR-4](images/counter2.svg)"
   ]
  },
  {
   "cell_type": "code",
   "execution_count": null,
   "metadata": {
    "collapsed": false
   },
   "outputs": [],
   "source": [
    "// Module containing the register\n",
    "class MyCounter extends Module {\n",
    "  val io = IO(new Bundle {\n",
    "    val out = Output(UInt(2.W))\n",
    "  })\n",
    "  val myReg = RegInit(UInt(2.W), 1.U)\n",
    "  myReg := myReg + 1.U\n",
    "  io.out := myReg\n",
    "\n",
    "  \n",
    "  printf(\"out=%d\\n\", io.out)\n",
    "  \n",
    "  printf(p\"${io}\\n\")\n",
    "}\n",
    "\n",
    "// Testvector\n",
    "class MyCounterTester(c: MyCounter) extends PeekPokeTester(c) {\n",
    "  expect(c.io.out, 1)\n",
    "  step(1)\n",
    "  expect(c.io.out, 2)\n",
    "  step(1)\n",
    "  expect(c.io.out, 3)\n",
    "  step(1)\n",
    "  expect(c.io.out, 0)\n",
    "  step(1)\n",
    "  expect(c.io.out, 1)\n",
    "  step(1)\n",
    "}\n",
    "\n",
    "// Driver run invocation\n",
    "Driver(() => new MyCounter) {\n",
    "  c => new MyCounterTester(c)\n",
    "}"
   ]
  },
  {
   "cell_type": "markdown",
   "metadata": {},
   "source": [
    "One important note is that Chisel distinguishes between types (like `UInt`) and hardware nodes (like the literal `2.U`, or the output of `myReg`). While\n",
    "```scala\n",
    "val myReg = Reg(UInt(2.W))\n",
    "```\n",
    "is legal because a Reg needs a data type as a model,\n",
    "```scala\n",
    "val myReg = Reg(2.U)\n",
    "```\n",
    "is an error because `2.U` is already a hardware node and can't be used as a model.\n",
    "\n",
    "Similarly, the `RegInit` examples have a type as their first argument and hardware node as the second argument. The hardware node is required to give a concrete initialization value.\n",
    "\n",
    "Given that, now build a module that implements a shift register for your LFSR. Specifically:\n",
    "- Each element is a single bit wide.\n",
    "- Has 4 stages.\n",
    "- Takes a single input bit, which is the next value into the shift register.\n",
    "- Outputs the parallel output of the shift register, with the most significant bit being the last element of the shift register and the least significant bit being the first element of the shift register. `Cat` may come in handy.\n",
    "- The output initializes at `b0001`.\n",
    "- Shifts each clock cycle (no enable signal).\n",
    "\n",
    "![4-stage shifter](images/shifter4.svg)\n",
    "\n",
    "A basic Module skeleton, testvector, and Driver invocation is provided below. The first register has been provided for you."
   ]
  },
  {
   "cell_type": "code",
   "execution_count": null,
   "metadata": {
    "collapsed": false
   },
   "outputs": [],
   "source": [
    "class MyShiftRegister extends Module {\n",
    "  val io = IO(new Bundle {\n",
    "    val in = Input(Bool())\n",
    "    val out = Output(UInt(4.W))\n",
    "  })\n",
    "  val s1 = RegInit(Bool(), true.B)\n",
    "    \n",
    "  // YOUR CODE HERE\n",
    "  // don't forget to update the first register!\n",
    "  \n",
    "  printf(\"%x\\n\", io.out)\n",
    "}"
   ]
  },
  {
   "cell_type": "code",
   "execution_count": null,
   "metadata": {
    "collapsed": false
   },
   "outputs": [],
   "source": [
    "class MyShiftRegisterTester(c: MyShiftRegister) extends PeekPokeTester(c) {\n",
    "  expect(c.io.out, 1)  // b0001\n",
    "  poke(c.io.in, 0)\n",
    "  step(1)\n",
    "  expect(c.io.out, 2)  // b0010\n",
    "  poke(c.io.in, 1)\n",
    "  step(1)\n",
    "  expect(c.io.out, 5)  // b0101\n",
    "  poke(c.io.in, 1)\n",
    "  step(1)\n",
    "  expect(c.io.out, 11)  // b1011\n",
    "  poke(c.io.in, 0)\n",
    "  step(1)\n",
    "  expect(c.io.out, 6)  // b0110\n",
    "}\n",
    "\n",
    "Driver(() => new MyShiftRegister) {\n",
    "  c => new MyShiftRegisterTester(c)\n",
    "}"
   ]
  },
  {
   "cell_type": "markdown",
   "metadata": {},
   "source": [
    "Chisel also offers several more variants of the register constructor, for example with a `next` field or with an `enable` signal, but these are outside the scope of this introductory tutorial.\n",
    "\n",
    "## Conditional Logic and Wires\n",
    "_We've now seen the basics of building combinational and sequential logic circuits, but those are very low-level primitives. Chisel provides a higher level of abstraction for some operations._\n",
    "\n",
    "### Conditional Register Updates\n",
    "Chisel operators can be gated by putting them inside a `when` conditional block. In our counter example above, if we also added a `count` input signal, we could gate the incrementing of the counter as follows:\n",
    "\n",
    "```scala\n",
    "when (io.count) {\n",
    "  myReg := myReg + 1.U\n",
    "}\n",
    "```\n",
    "\n",
    "In the case the `when` condition isn't met, the code inside simply isn't \"run\" on that cycle.\n",
    "\n",
    "When also has an `.elsewhen` and `.otherwise` construct, similar to `else if` and `else`. For example, if we wanted to count the number of cycles `count` is consecutively high, we could have it reset in the `.otherwise` condition:\n",
    "\n",
    "```scala\n",
    "when (io.count) {\n",
    "  myReg := myReg + 1.U\n",
    "} .otherwise  {\n",
    "  myReg := 0.U\n",
    "}\n",
    "```\n",
    "\n",
    "_Note that there is a `.` before the `otherwise`, this due to limitations of Scala syntax._\n",
    "\n",
    "### Wires\n",
    "While we've seen the update operator `:=` used combinationally on Module boundary `IO`s, it can be also applied to Module-internal `Wire`s. Here's an example of the counter above, styled slightly differently to make the combinational logic explicit and using `Wire`s.\n",
    "```scala\n",
    "val myReg = RegInit(UInt(2.W), 1.U)\n",
    "val nextReg = Wire(UInt(2.W))  // constructed similarly to Regs\n",
    "nextReg := myReg + 1.U\n",
    "myReg := nextReg\n",
    "```\n",
    "\n",
    "### Conditional Combinational Updates\n",
    "Conditional blocks can also be used to generate combinational logic. Let's say now that we want a counter that counts 0, 1, 2, then resets. In this case, since we need to reset on 2, we can no longer depend on the implicit integer overflow and need to make the logic explicit:\n",
    "```scala\n",
    "val nextReg = Wire(UInt(2.W))\n",
    "when (myReg === 2.U) {\n",
    "  nextReg := 0.U\n",
    "} .otherwise {\n",
    "  nextReg := myReg + 1.U\n",
    "}\n",
    "```\n",
    "\n",
    "When there are multiple update operations that can apply at the same time, the last one takes priority. So the above example can be equivalently rewritten by unconditionally updating `nextReg` with the counter increment, then overriding it in the overflow case:\n",
    "\n",
    "```scala\n",
    "val nextReg = Wire(UInt(2.W))\n",
    "nextReg := myReg + 1.U\n",
    "when (myReg === 2.U) {\n",
    "  nextReg := 0.U\n",
    "}\n",
    "```\n",
    "\n",
    "There is also `WireInit`, a shorthand which declares and initializes a `Wire`:\n",
    "\n",
    "```scala\n",
    "val nextReg = WireInit(UInt(2.W), myReg + 1.U)\n",
    "when (myReg === 2.U) {\n",
    "  nextReg := 0.U\n",
    "}\n",
    "```\n",
    "\n",
    "Whether to use the first, second, or third forms is mainly a matter of style and readability. They are all functionally equivalent.\n",
    "\n",
    "### A Gated, 3-tick Counter\n",
    "Putting it all together, here's the full example:"
   ]
  },
  {
   "cell_type": "code",
   "execution_count": null,
   "metadata": {
    "collapsed": false
   },
   "outputs": [],
   "source": [
    "// Module containing the register\n",
    "class MyNewCounter extends Module {\n",
    "  val io = IO(new Bundle {\n",
    "    val count = Input(Bool())\n",
    "    val out = Output(UInt(2.W))\n",
    "  })\n",
    "  val myReg = RegInit(UInt(2.W), 1.U)\n",
    "\n",
    "  val nextReg = Wire(UInt(2.W))\n",
    "  when (myReg === 2.U) {\n",
    "    nextReg := 0.U\n",
    "  } .otherwise {\n",
    "    nextReg := myReg + 1.U\n",
    "  }\n",
    "  \n",
    "  when (io.count) {\n",
    "    myReg := nextReg\n",
    "  }\n",
    "\n",
    "  io.out := myReg\n",
    "    \n",
    "  printf(\"out=%d\\n\", io.out)\n",
    "}\n",
    "\n",
    "// Testvector\n",
    "class MyNewCounterTester(c: MyNewCounter) extends PeekPokeTester(c) {\n",
    "  poke(c.io.count, 1)\n",
    "  expect(c.io.out, 1)\n",
    "  step(1)\n",
    "  expect(c.io.out, 2)\n",
    "  step(1)\n",
    "  expect(c.io.out, 0)\n",
    "  step(1)\n",
    "  expect(c.io.out, 1)\n",
    "  poke(c.io.count, 0)  // test pause\n",
    "  step(1)\n",
    "  expect(c.io.out, 1)\n",
    "  step(1)\n",
    "  expect(c.io.out, 1)\n",
    "  poke(c.io.count, 1)  // unpause\n",
    "  step(1)\n",
    "  expect(c.io.out, 2)\n",
    "  step(1)\n",
    "}\n",
    "\n",
    "// Driver run invocation\n",
    "Driver(() => new MyNewCounter) {\n",
    "  c => new MyNewCounterTester(c)\n",
    "}"
   ]
  },
  {
   "cell_type": "markdown",
   "metadata": {},
   "source": [
    "The `when` blocks are high-level constructs that ease the generation of muxes. The actual circuit would look something like:\n",
    "\n",
    "![Counter 3](images/counter3.svg)\n",
    "\n",
    "Take your shift register design from above, but modify it so that it only shifts when the update signal is asserted.\n",
    "\n",
    "As with before, a basic testbench and module skeleton is provided for you."
   ]
  },
  {
   "cell_type": "code",
   "execution_count": null,
   "metadata": {
    "collapsed": true
   },
   "outputs": [],
   "source": [
    "class MyGatedShiftRegister extends Module {\n",
    "  val io = IO(new Bundle {\n",
    "    val in = Input(Bool())\n",
    "    val update = Input(Bool())\n",
    "    val out = Output(UInt(4.W))\n",
    "  })\n",
    "  val s1 = RegInit(Bool(), true.B)\n",
    "    \n",
    "  // YOUR CODE HERE\n",
    "  // don't forget to update the first register!\n",
    "  \n",
    "  printf(\"%x\\n\", io.out)  \n",
    "}"
   ]
  },
  {
   "cell_type": "code",
   "execution_count": null,
   "metadata": {
    "collapsed": true
   },
   "outputs": [],
   "source": [
    "class MyGatedShiftRegisterTester(c: MyGatedShiftRegister) extends PeekPokeTester(c) {\n",
    "  poke(c.io.update, 1)\n",
    "  expect(c.io.out, 1)  // b0001\n",
    "  poke(c.io.in, 0)\n",
    "  step(1)\n",
    "  expect(c.io.out, 2)  // b0010\n",
    "  poke(c.io.in, 1)\n",
    "  step(1)\n",
    "  expect(c.io.out, 5)  // b0101\n",
    "  poke(c.io.update, 0)  // pause\n",
    "  step(1)\n",
    "  expect(c.io.out, 5)\n",
    "  step(1)\n",
    "  expect(c.io.out, 5)\n",
    "  step(1)\n",
    "  poke(c.io.update, 1)  // unpause\n",
    "  poke(c.io.in, 1)\n",
    "  step(1)\n",
    "  expect(c.io.out, 11)  // b1011\n",
    "  poke(c.io.in, 0)\n",
    "  step(1)\n",
    "  expect(c.io.out, 6)  // b0110\n",
    "}\n",
    "\n",
    "Driver(() => new MyGatedShiftRegister) {\n",
    "  c => new MyGatedShiftRegisterTester(c)\n",
    "}"
   ]
  },
  {
   "cell_type": "markdown",
   "metadata": {},
   "source": [
    "## Modules\n",
    "_Without re-use, any non-trivial RTL design wouldn't get very far. This section goes into the basics of re-use with Chisel._\n",
    "\n",
    "In all the example code, you've probably noticed that all your classes extend the `Module` class. Chisel `Module`s are very much like Verilog `module`s, they are instantiable blocks of logic that contain well-defined IO ports.\n",
    "\n",
    "As all `Module`s are classes, they can be instantiated using the `new` object syntax. However, they also must be wrapped in a `Module(...)` call. For example, to instantiate the 4-state counter example way above:\n",
    "```scala\n",
    "val myModule = Module(new MyCounter())\n",
    "```\n",
    "\n",
    "You can then reference its IO objects in its parent class. For example, if you wanted to know when `myModule`'s count was 3, you could:\n",
    "```scala\n",
    "val isCount3 = myModule.io.out === 3.U\n",
    "```\n",
    "\n",
    "### A 4-cycle tick\n",
    "This example below uses the `MyCounter` class from above to build a block that generates a one high cycle for every 4 clock cycles by comparing its output.\n",
    "\n",
    "![4-ticker](images/myTicker.svg)"
   ]
  },
  {
   "cell_type": "code",
   "execution_count": null,
   "metadata": {
    "collapsed": false
   },
   "outputs": [],
   "source": [
    "// Module containing the register\n",
    "class MyTicker extends Module {\n",
    "  val io = IO(new Bundle {\n",
    "    val out = Output(Bool())\n",
    "  })\n",
    "  \n",
    "  val myModule = Module(new MyCounter())\n",
    "  io.out := myModule.io.out === 3.U\n",
    "}\n",
    "\n",
    "// Testvector\n",
    "class MyTickerTester(c: MyTicker) extends PeekPokeTester(c) {\n",
    "  expect(c.io.out, 0)  // counter at 1\n",
    "  step(1)\n",
    "  expect(c.io.out, 0)  // counter at 2\n",
    "  step(1)\n",
    "  expect(c.io.out, 1)  // counter at 3\n",
    "  step(1)\n",
    "  expect(c.io.out, 0)  // counter at 0\n",
    "  step(1)\n",
    "  expect(c.io.out, 0)  // counter at 1\n",
    "  step(1)\n",
    "  expect(c.io.out, 0)  // counter at 2\n",
    "  step(1)\n",
    "  expect(c.io.out, 1)  // counter at 3\n",
    "  step(1)\n",
    "}\n",
    "\n",
    "// Driver run invocation\n",
    "Driver(() => new MyTicker) {\n",
    "  c => new MyTickerTester(c)\n",
    "}"
   ]
  },
  {
   "cell_type": "markdown",
   "metadata": {},
   "source": [
    "Modules are just one form of composition and re-use in Chisel, you'll learn more soon.\n",
    "\n",
    "## Now You Try: The Full LFSR\n",
    "\n",
    "Now, build a full LFSR by taking your `MyGatedShiftRegister` and `OperatorsExercise` modules and instantiating them in a parent module. As usual, the module skeleton and a testbench is provided for you.\n",
    "\n",
    "![LFSR-4](images/lfsr4blocks.svg)"
   ]
  },
  {
   "cell_type": "code",
   "execution_count": null,
   "metadata": {
    "collapsed": true
   },
   "outputs": [],
   "source": [
    "class MyLfsr extends Module {\n",
    "  val io = IO(new Bundle {\n",
    "    val update = Input(Bool())\n",
    "    val out = Output(UInt(4.W))\n",
    "  })\n",
    "  \n",
    "  val myShifter = Module(new MyGatedShiftRegister())\n",
    "  myShifter.io.update := io.update\n",
    "  \n",
    "  // YOUR CODE HERE\n",
    "  // Don't forget to make the other needed connections to myShifter!\n",
    "  \n",
    "  printf(\"%x\\n\", io.out)\n",
    "}\n"
   ]
  },
  {
   "cell_type": "code",
   "execution_count": null,
   "metadata": {
    "collapsed": true
   },
   "outputs": [],
   "source": [
    "// Testvector\n",
    "class MyLfsrTester(c: MyLfsr) extends PeekPokeTester(c) {\n",
    "  poke(c.io.update, 1)\n",
    "  expect(c.io.out, 1)\n",
    "  step(1)\n",
    "  expect(c.io.out, 2)\n",
    "  step(1)\n",
    "  expect(c.io.out, 4)\n",
    "  step(1)\n",
    "  expect(c.io.out, 9)\n",
    "  step(1)\n",
    "  expect(c.io.out, 3)\n",
    "  step(1)\n",
    "  expect(c.io.out, 6)\n",
    "  step(1)\n",
    "  expect(c.io.out, 13)\n",
    "  step(1)\n",
    "  expect(c.io.out, 10)\n",
    "  step(1)\n",
    "  expect(c.io.out, 5)\n",
    "  step(1)\n",
    "  expect(c.io.out, 11)\n",
    "  poke(c.io.update, 0)  // pause\n",
    "  step(1)\n",
    "  expect(c.io.out, 11)\n",
    "  step(1)\n",
    "  expect(c.io.out, 11)\n",
    "  poke(c.io.update, 1)  // unpause\n",
    "  step(1)\n",
    "  expect(c.io.out, 7)\n",
    "  step(1)\n",
    "  expect(c.io.out, 15)\n",
    "  step(1)\n",
    "  expect(c.io.out, 14)\n",
    "  step(1)\n",
    "  expect(c.io.out, 12)\n",
    "  step(1)\n",
    "  expect(c.io.out, 8)\n",
    "  step(1)\n",
    "  expect(c.io.out, 1)  // LFSR restarts\n",
    "  step(1)\n",
    "  expect(c.io.out, 2)\n",
    "  step(1)\n",
    "  expect(c.io.out, 4)\n",
    "  step(1)\n",
    "  expect(c.io.out, 9)\n",
    "  step(1)\n",
    "}\n",
    "\n",
    "// Driver run invocation\n",
    "Driver(() => new MyLfsr) {\n",
    "  c => new MyLfsrTester(c)\n",
    "}"
   ]
  },
  {
   "cell_type": "markdown",
   "metadata": {},
   "source": [
    "## Scala vs. Chisel"
   ]
  },
  {
   "cell_type": "markdown",
   "metadata": {},
   "source": [
    "## Abstraction and Hierarchy in Hardware"
   ]
  },
  {
   "cell_type": "markdown",
   "metadata": {},
   "source": [
    "TODO: Include `Mem` and `BlackBox` here (`Mem` = shift register `Mem`, BlackBox = maybe a negative-edge FF, or reimplementation of OperatorsExercise in Verilog??)\n",
    "\n",
    "TODO: Also include `Bundle` (as both IO inside Module and as separate class) and `Vec`"
   ]
  },
  {
   "cell_type": "markdown",
   "metadata": {},
   "source": [
    "## Debugging Tips\n",
    "TODO: add more, explain what's going on below (string interpreter)\n",
    "TODO: maybe give quick overview of FIRRTL and using it as a debugging technique"
   ]
  },
  {
   "cell_type": "code",
   "execution_count": null,
   "metadata": {
    "collapsed": false
   },
   "outputs": [],
   "source": [
    "// Module containing the register\n",
    "class MyCounter extends Module {\n",
    "  val io = IO(new Bundle {\n",
    "    val out = Output(UInt(2.W))\n",
    "  })\n",
    "  val myReg = RegInit(UInt(2.W), 1.U)\n",
    "  myReg := myReg + 1.U\n",
    "  io.out := myReg\n",
    "\n",
    "  // printing results\n",
    "  printf(\"out=%d\\n\", io.out)\n",
    "  printf(p\"${io}\\n\")\n",
    "}"
   ]
  },
  {
   "cell_type": "code",
   "execution_count": null,
   "metadata": {
    "collapsed": false
   },
   "outputs": [],
   "source": [
    "// viewing the firrtl for debugging:\n",
    "println(chisel3.Driver.emit(() => new MyTicker))"
   ]
  }
 ],
 "metadata": {
  "kernelspec": {
   "display_name": "Scala",
   "language": "scala",
   "name": "scala"
  },
  "language_info": {
   "codemirror_mode": "text/x-scala",
   "file_extension": ".scala",
   "mimetype": "text/x-scala",
   "name": "scala211",
   "nbconvert_exporter": "script",
   "pygments_lexer": "scala",
   "version": "2.11.11"
  }
 },
 "nbformat": 4,
 "nbformat_minor": 2
}

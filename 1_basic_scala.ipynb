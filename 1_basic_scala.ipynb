{
 "cells": [
  {
   "cell_type": "markdown",
   "metadata": {},
   "source": [
    "![Chisel](https://chisel.eecs.berkeley.edu/assets/img/chisel_64.png)"
   ]
  },
  {
   "cell_type": "markdown",
   "metadata": {},
   "source": [
    "# Module 1: Basic Scala\n",
    "#### Written by Chick Markley (chick@berkeley.edu)\n",
    "\n",
    "- Object Oriented\n",
    "  - Factory Objects, Classes\n",
    "  - Traits, overloading etc\n",
    "  - Strongly typed with type inference\n",
    "- Functional\n",
    "  - Higher order functions\n",
    "  - Anonymous functions\n",
    "  - Currying etc\n",
    "- Extensible\n",
    "  - Domain Specific Languages (DSLs)\n",
    "- Compiled to JVM\n",
    "  - Good performance\n",
    "  - Great Java interoperability\n",
    "  - Mature debugging, execution environments\n",
    "  \n",
    "## TODO talk about inheritance\n",
    "  "
   ]
  },
  {
   "cell_type": "markdown",
   "metadata": {},
   "source": [
    "## Table of Contents\n",
    "In this tutorial you will learn how the basics of how to install and manage a Scala development environment.\n",
    "You will also learn to read and understand the fundamental features of the Scala language:\n",
    "\n",
    "**[Installing Chisel](#installation)**\n",
    "**[Very Basic Scala](#understanding)**\n",
    "1. [Variables and Constants](#vars)\n",
    "1. [Arrays](#arrays)\n",
    "1. [Lists](#lists)\n",
    "1. [Tuples](#tuples)\n",
    "1. [Maps](#maps)\n",
    "1. [Sets](#sets)\n",
    "1. [Iterations](#iterations)\n"
   ]
  },
  {
   "cell_type": "markdown",
   "metadata": {},
   "source": [
    "# Installing Chisel<a name=\"installation\"></a>\n",
    "The chisel3 repo, found here: [github chisel3](https://github.com/freechipsproject/chisel3) has instructions in\n",
    "the README.md file. Scroll down the page to see the instructions.                                                 "
   ]
  },
  {
   "cell_type": "markdown",
   "metadata": {},
   "source": []
  },
  {
   "cell_type": "markdown",
   "metadata": {},
   "source": [
    "# Understanding Scala<a name=\"installation\"></a>\n",
    "Scala is yet another programming language.  It does all the basic stuff, we chose it for several reasons\n",
    "- It is a good language for hosting an embedded DSL\n",
    "- It has a powerful and elegant library for manipulating various collections of data\n",
    "- It type system helps catch a large class of errors very early in the development cycle\n",
    "- It has powerful way of expressing and passing functions.\n",
    "\n",
    "All of that really become apparent as we talk about Chisel later, but for now, we are going to focus on the\n",
    "basics of reading and writing basic Scala code."
   ]
  },
  {
   "cell_type": "markdown",
   "metadata": {},
   "source": [
    "# Variables and Constants -- var and val<a name=\"vars\"></a>\n",
    "Statements that create variables and constants are preceded with the keywords *var* and *val* respectively.  It is\n",
    "common practice to use *val* whenever possible.  Why?  Mostly to reduce the chances of re-using variables in ways that are error prone or make your code difficult to read.  Structure of Scala make this practice easier than you might expect."
   ]
  },
  {
   "cell_type": "code",
   "execution_count": 10,
   "metadata": {},
   "outputs": [
    {
     "data": {
      "text/plain": [
       "\u001b[36mnumberOfKittens\u001b[39m: \u001b[32mInt\u001b[39m = \u001b[32m7\u001b[39m\n",
       "\u001b[36mkittensPerHouse\u001b[39m: \u001b[32mInt\u001b[39m = \u001b[32m101\u001b[39m\n",
       "\u001b[36mcats\u001b[39m: \u001b[32mInt\u001b[39m = \u001b[32m23\u001b[39m\n",
       "\u001b[36mdogs\u001b[39m: \u001b[32mInt\u001b[39m = \u001b[32m42\u001b[39m"
      ]
     },
     "execution_count": 10,
     "metadata": {},
     "output_type": "execute_result"
    }
   ],
   "source": [
    "// Variables in scala\n",
    "var numberOfKittens = 6\n",
    "val kittensPerHouse = 101\n",
    "\n",
    "// TODO explain\n",
    "val (cats, dogs) = (23, 42)\n",
    "\n",
    "// You can refer to variables and constants in the obvious way\n",
    "\n",
    "numberOfKittens += 1\n",
    "if(numberOfKittens > kittensPerHouse) { println(\"Too many kittens!!!\") } // we have a problem"
   ]
  },
  {
   "cell_type": "markdown",
   "metadata": {},
   "source": [
    "# Arrays<a name=\"arrays\"></a>\n",
    "Scala has arrays, including *ArrayBuffer* an array that can be extended, inserted into, and deleted.  It has many\n",
    "other types, for example List"
   ]
  },
  {
   "cell_type": "code",
   "execution_count": 11,
   "metadata": {},
   "outputs": [
    {
     "data": {
      "text/plain": [
       "\u001b[36mtable\u001b[39m: \u001b[32mArray\u001b[39m[\u001b[32mInt\u001b[39m] = \u001b[33mArray\u001b[39m(\n",
       "  \u001b[32m32\u001b[39m,\n",
       "  \u001b[32m0\u001b[39m,\n",
       "  \u001b[32m0\u001b[39m,\n",
       "  \u001b[32m0\u001b[39m,\n",
       "  \u001b[32m0\u001b[39m,\n",
       "  \u001b[32m0\u001b[39m,\n",
       "  \u001b[32m0\u001b[39m,\n",
       "  \u001b[32m0\u001b[39m,\n",
       "  \u001b[32m0\u001b[39m,\n",
       "  \u001b[32m0\u001b[39m,\n",
       "  \u001b[32m0\u001b[39m,\n",
       "\u001b[33m...\u001b[39m\n",
       "\u001b[36my\u001b[39m: \u001b[32mInt\u001b[39m = \u001b[32m32\u001b[39m\n",
       "\u001b[36mn\u001b[39m: \u001b[32mInt\u001b[39m = \u001b[32m256\u001b[39m\n",
       "\u001b[32mimport \u001b[39m\u001b[36mscala.collection.mutable\n",
       "\u001b[39m\n",
       "\u001b[36mbuf\u001b[39m: \u001b[32mmutable\u001b[39m.\u001b[32mArrayBuffer\u001b[39m[\u001b[32mInt\u001b[39m] = \u001b[33mArrayBuffer\u001b[39m(\u001b[32m12\u001b[39m, \u001b[32m9\u001b[39m, \u001b[32m13\u001b[39m, \u001b[32m14\u001b[39m)\n",
       "\u001b[36mres10_6\u001b[39m: \u001b[32mmutable\u001b[39m.\u001b[32mArrayBuffer\u001b[39m[\u001b[32mInt\u001b[39m] = \u001b[33mArrayBuffer\u001b[39m(\u001b[32m12\u001b[39m, \u001b[32m9\u001b[39m, \u001b[32m13\u001b[39m, \u001b[32m14\u001b[39m)\n",
       "\u001b[36mres10_7\u001b[39m: \u001b[32mmutable\u001b[39m.\u001b[32mArrayBuffer\u001b[39m[\u001b[32mInt\u001b[39m] = \u001b[33mArrayBuffer\u001b[39m(\u001b[32m12\u001b[39m, \u001b[32m9\u001b[39m, \u001b[32m13\u001b[39m, \u001b[32m14\u001b[39m)\n",
       "\u001b[36mres10_8\u001b[39m: \u001b[32mmutable\u001b[39m.\u001b[32mArrayBuffer\u001b[39m[\u001b[32mInt\u001b[39m] = \u001b[33mArrayBuffer\u001b[39m(\u001b[32m12\u001b[39m, \u001b[32m9\u001b[39m, \u001b[32m13\u001b[39m, \u001b[32m14\u001b[39m)\n",
       "\u001b[36mz\u001b[39m: \u001b[32mInt\u001b[39m = \u001b[32m12\u001b[39m\n",
       "\u001b[36ml\u001b[39m: \u001b[32mInt\u001b[39m = \u001b[32m4\u001b[39m"
      ]
     },
     "execution_count": 11,
     "metadata": {},
     "output_type": "execute_result"
    }
   ],
   "source": [
    "val table = new Array[Int](256)\n",
    "table(0) = 32\n",
    "val y = table(0)\n",
    "val n = table.length\n",
    "\n",
    "// TODO explain\n",
    "import scala.collection.mutable\n",
    "val buf = new mutable.ArrayBuffer[Int]()\n",
    "buf += 12\n",
    "buf += 13\n",
    "buf += 14\n",
    "buf.insert(1, 9) // insert 9 at position 0 and scoot downt the following\n",
    "val z = buf(0)\n",
    "val l = buf.length"
   ]
  },
  {
   "cell_type": "markdown",
   "metadata": {},
   "source": [
    "# Lists<a name=\"lists\"></a>\n",
    "Lists are a lot like arrays but support additional operations for appending and extracting"
   ]
  },
  {
   "cell_type": "code",
   "execution_count": 12,
   "metadata": {},
   "outputs": [
    {
     "data": {
      "text/plain": [
       "\u001b[36mx\u001b[39m: \u001b[32mInt\u001b[39m = \u001b[32m7\u001b[39m\n",
       "\u001b[36mlist1\u001b[39m: \u001b[32mList\u001b[39m[\u001b[32mInt\u001b[39m] = \u001b[33mList\u001b[39m(\u001b[32m1\u001b[39m, \u001b[32m2\u001b[39m, \u001b[32m3\u001b[39m)\n",
       "\u001b[36mlist2\u001b[39m: \u001b[32mList\u001b[39m[\u001b[32mInt\u001b[39m] = \u001b[33mList\u001b[39m(\u001b[32m7\u001b[39m, \u001b[32m32\u001b[39m, \u001b[32m32\u001b[39m)\n",
       "\u001b[36melement1\u001b[39m: \u001b[32mInt\u001b[39m = \u001b[32m1\u001b[39m\n",
       "\u001b[36melement2\u001b[39m: \u001b[32mInt\u001b[39m = \u001b[32m2\u001b[39m\n",
       "\u001b[36melement3\u001b[39m: \u001b[32mInt\u001b[39m = \u001b[32m3\u001b[39m\n",
       "\u001b[36mlist3\u001b[39m: \u001b[32mList\u001b[39m[\u001b[32mInt\u001b[39m] = \u001b[33mList\u001b[39m(\u001b[32m1\u001b[39m, \u001b[32m2\u001b[39m, \u001b[32m3\u001b[39m, \u001b[32m7\u001b[39m, \u001b[32m32\u001b[39m, \u001b[32m32\u001b[39m)\n",
       "\u001b[36mm\u001b[39m: \u001b[32mInt\u001b[39m = \u001b[32m3\u001b[39m"
      ]
     },
     "execution_count": 12,
     "metadata": {},
     "output_type": "execute_result"
    }
   ],
   "source": [
    "val x = 7\n",
    "val list1 = List(1, 2, 3)\n",
    "val list2 = x :: y :: y :: Nil                        // an alternate notation for assembling a list\n",
    "val element1 :: element2 :: element3 :: Nil = list1   // list notation on left hand side, extracts\n",
    "                                                      // list1 into named values, would fail if list1 not length 4\n",
    "val list3 = list1 ++ list2\n",
    "val m = list2.length\n",
    "\n",
    "// TODO Show head, tail, extract an element"
   ]
  },
  {
   "cell_type": "markdown",
   "metadata": {},
   "source": [
    "# Tuples<a name=\"tuples\"></a>\n",
    "Sort of like fixed lists but really more useful and when combining other kinds of data or returning more than one\n",
    "thing from a function"
   ]
  },
  {
   "cell_type": "code",
   "execution_count": 13,
   "metadata": {},
   "outputs": [
    {
     "data": {
      "text/plain": [
       "\u001b[36mtuple1\u001b[39m: (\u001b[32mString\u001b[39m, \u001b[32mInt\u001b[39m) = (\u001b[32m\"dog\"\u001b[39m, \u001b[32m1\u001b[39m)\n",
       "\u001b[36me1\u001b[39m: \u001b[32mString\u001b[39m = \u001b[32m\"dog\"\u001b[39m\n",
       "\u001b[36me2\u001b[39m: \u001b[32mInt\u001b[39m = \u001b[32m1\u001b[39m\n",
       "\u001b[36mlistOfTuples\u001b[39m: \u001b[32mList\u001b[39m[(\u001b[32mInt\u001b[39m, \u001b[32mInt\u001b[39m)] = \u001b[33mList\u001b[39m((\u001b[32m1\u001b[39m, \u001b[32m7\u001b[39m), (\u001b[32m2\u001b[39m, \u001b[32m32\u001b[39m), (\u001b[32m3\u001b[39m, \u001b[32m32\u001b[39m))\n",
       "defined \u001b[32mfunction\u001b[39m \u001b[36msquareAndCube\u001b[39m\n",
       "\u001b[36mres12_5\u001b[39m: (\u001b[32mInt\u001b[39m, \u001b[32mInt\u001b[39m) = (\u001b[32m49\u001b[39m, \u001b[32m343\u001b[39m)"
      ]
     },
     "execution_count": 13,
     "metadata": {},
     "output_type": "execute_result"
    }
   ],
   "source": [
    "val tuple1 = (\"dog\", 1) // can have elements with different data types\n",
    "val e1 = tuple1._1  // accessing elements of a tuple (note that it's bottom element is 1)\n",
    "val e2 = tuple1._2  // extensive searching has failed to find anyone who likes this syntax\n",
    "\n",
    "val listOfTuples = list1.zip(list2)  // create a list of tuples from two lists.  More in advanced scala\n",
    "\n",
    "\n",
    "def squareAndCube(n: Integer) = (n * n, n * n * n) // returns a tuple\n",
    "\n",
    "squareAndCube(7)"
   ]
  },
  {
   "cell_type": "markdown",
   "metadata": {},
   "source": [
    "# Maps<a name=\"maps\"></a>\n",
    "Maps are like associative maps or python *dicts* that allow indexing into a\n",
    "collection with strings, classes or other keys."
   ]
  },
  {
   "cell_type": "code",
   "execution_count": 14,
   "metadata": {},
   "outputs": [
    {
     "data": {
      "text/plain": [
       "\u001b[32mimport \u001b[39m\u001b[36mscala.collection.mutable\n",
       "\u001b[39m\n",
       "\u001b[36mvars\u001b[39m: \u001b[32mmutable\u001b[39m.\u001b[32mHashMap\u001b[39m[\u001b[32mString\u001b[39m, \u001b[32mInt\u001b[39m] = \u001b[33mMap\u001b[39m(\u001b[32m\"b\"\u001b[39m -> \u001b[32m2\u001b[39m, \u001b[32m\"a\"\u001b[39m -> \u001b[32m1\u001b[39m)\n",
       "\u001b[36mres13_4\u001b[39m: \u001b[32mInt\u001b[39m = \u001b[32m2\u001b[39m\n",
       "\u001b[36mres13_5\u001b[39m: \u001b[32mBoolean\u001b[39m = \u001b[32mfalse\u001b[39m\n",
       "\u001b[36mres13_6\u001b[39m: \u001b[32mInt\u001b[39m = \u001b[32m-1\u001b[39m\n",
       "\u001b[36mres13_7\u001b[39m: \u001b[32mIterable\u001b[39m[\u001b[32mString\u001b[39m] = \u001b[33mSet\u001b[39m(\u001b[32m\"b\"\u001b[39m, \u001b[32m\"a\"\u001b[39m)\n",
       "\u001b[36mres13_8\u001b[39m: \u001b[32mIterable\u001b[39m[\u001b[32mInt\u001b[39m] = \u001b[33mHashMap\u001b[39m(\u001b[32m2\u001b[39m, \u001b[32m1\u001b[39m)"
      ]
     },
     "execution_count": 14,
     "metadata": {},
     "output_type": "execute_result"
    }
   ],
   "source": [
    "import scala.collection.mutable\n",
    "val vars = new mutable.HashMap[String, Int]()\n",
    "vars(\"a\") = 1\n",
    "vars(\"b\") = 2\n",
    "vars.size\n",
    "vars.contains(\"c\")\n",
    "vars.getOrElse(\"c\", -1)\n",
    "vars.keys\n",
    "vars.values"
   ]
  },
  {
   "cell_type": "markdown",
   "metadata": {},
   "source": [
    "# Sets<a name=\"sets\"></a>\n",
    "Sets are a collection that only allows one of each member. "
   ]
  },
  {
   "cell_type": "code",
   "execution_count": 25,
   "metadata": {},
   "outputs": [
    {
     "data": {
      "text/plain": [
       "\u001b[32mimport \u001b[39m\u001b[36mscala.collection.mutable\n",
       "\u001b[39m\n",
       "\u001b[32mimport \u001b[39m\u001b[36mscala.collection.immutable\n",
       "\u001b[39m\n",
       "\u001b[36mkeys\u001b[39m: \u001b[32mmutable\u001b[39m.\u001b[32mHashSet\u001b[39m[\u001b[32mInt\u001b[39m] = \u001b[33mSet\u001b[39m(\u001b[32m1\u001b[39m, \u001b[32m5\u001b[39m)\n",
       "\u001b[36mres24_3\u001b[39m: \u001b[32mmutable\u001b[39m.\u001b[32mHashSet\u001b[39m[\u001b[32mInt\u001b[39m] = \u001b[33mSet\u001b[39m(\u001b[32m1\u001b[39m, \u001b[32m5\u001b[39m)\n",
       "\u001b[36mres24_4\u001b[39m: \u001b[32mmutable\u001b[39m.\u001b[32mHashSet\u001b[39m[\u001b[32mInt\u001b[39m] = \u001b[33mSet\u001b[39m(\u001b[32m1\u001b[39m, \u001b[32m5\u001b[39m)\n",
       "\u001b[36mres24_5\u001b[39m: \u001b[32mInt\u001b[39m = \u001b[32m2\u001b[39m\n",
       "\u001b[36mres24_6\u001b[39m: \u001b[32mmutable\u001b[39m.\u001b[32mHashSet\u001b[39m[\u001b[32mInt\u001b[39m] = \u001b[33mSet\u001b[39m(\u001b[32m1\u001b[39m, \u001b[32m5\u001b[39m)\n",
       "\u001b[36mres24_7\u001b[39m: \u001b[32mmutable\u001b[39m.\u001b[32mHashSet\u001b[39m[\u001b[32mInt\u001b[39m] = \u001b[33mSet\u001b[39m(\u001b[32m1\u001b[39m, \u001b[32m5\u001b[39m)\n",
       "\u001b[36mres24_8\u001b[39m: \u001b[32mmutable\u001b[39m.\u001b[32mHashSet\u001b[39m[\u001b[32mInt\u001b[39m] = \u001b[33mSet\u001b[39m(\u001b[32m1\u001b[39m, \u001b[32m5\u001b[39m)\n",
       "\u001b[36mres24_9\u001b[39m: \u001b[32mInt\u001b[39m = \u001b[32m2\u001b[39m\n",
       "\u001b[36mres24_10\u001b[39m: \u001b[32mBoolean\u001b[39m = \u001b[32mfalse\u001b[39m"
      ]
     },
     "execution_count": 25,
     "metadata": {},
     "output_type": "execute_result"
    }
   ],
   "source": [
    "import scala.collection.mutable\n",
    "import scala.collection.immutable\n",
    "val keys = new mutable.HashSet[Int]()\n",
    "// TODO deal with printing\n",
    "keys += 1\n",
    "keys += 5\n",
    "keys.size  // size is 2\n",
    "keys += 5\n",
    "keys += 5\n",
    "keys += 1\n",
    "keys.size  // size is still 2\n",
    "keys.contains(2) // false"
   ]
  },
  {
   "cell_type": "markdown",
   "metadata": {},
   "source": [
    "# Scala Iteration<a name=\"iteration\"></a>"
   ]
  },
  {
   "cell_type": "code",
   "execution_count": 26,
   "metadata": {},
   "outputs": [
    {
     "name": "stdout",
     "output_type": "stream",
     "text": [
      "K b V 2\n",
      "K a V 1\n"
     ]
    },
    {
     "data": {
      "text/plain": [
       "\u001b[32mimport \u001b[39m\u001b[36mscala.collection.mutable\n",
       "\u001b[39m\n",
       "\u001b[36mtbl\u001b[39m: \u001b[32mArray\u001b[39m[\u001b[32mInt\u001b[39m] = \u001b[33mArray\u001b[39m(\n",
       "  \u001b[32m0\u001b[39m,\n",
       "  \u001b[32m1\u001b[39m,\n",
       "  \u001b[32m2\u001b[39m,\n",
       "  \u001b[32m3\u001b[39m,\n",
       "  \u001b[32m4\u001b[39m,\n",
       "  \u001b[32m5\u001b[39m,\n",
       "  \u001b[32m6\u001b[39m,\n",
       "  \u001b[32m7\u001b[39m,\n",
       "  \u001b[32m8\u001b[39m,\n",
       "  \u001b[32m9\u001b[39m,\n",
       "  \u001b[32m10\u001b[39m,\n",
       "\u001b[33m...\u001b[39m\n",
       "\u001b[36mtbl2\u001b[39m: \u001b[32mmutable\u001b[39m.\u001b[32mArrayBuffer\u001b[39m[\u001b[32mInt\u001b[39m] = \u001b[33mArrayBuffer\u001b[39m(\n",
       "  \u001b[32m0\u001b[39m,\n",
       "  \u001b[32m2\u001b[39m,\n",
       "  \u001b[32m4\u001b[39m,\n",
       "  \u001b[32m6\u001b[39m,\n",
       "  \u001b[32m8\u001b[39m,\n",
       "  \u001b[32m10\u001b[39m,\n",
       "  \u001b[32m12\u001b[39m,\n",
       "  \u001b[32m14\u001b[39m,\n",
       "  \u001b[32m16\u001b[39m,\n",
       "  \u001b[32m18\u001b[39m,\n",
       "  \u001b[32m20\u001b[39m,\n",
       "\u001b[33m...\u001b[39m"
      ]
     },
     "execution_count": 26,
     "metadata": {},
     "output_type": "execute_result"
    }
   ],
   "source": [
    "// TODO more text\n",
    "\n",
    "import scala.collection.mutable\n",
    "val tbl = new Array[Int](256)\n",
    "// loop over all indices\n",
    "for (i <- 0 until tbl.length) tbl(i) = i\n",
    "// TODO explain, expand\n",
    "\n",
    "// loop of each sequence element\n",
    "val tbl2 = new mutable.ArrayBuffer[Int]\n",
    "for (e <- tbl) {\n",
    "    tbl2 += 2*e\n",
    "}\n",
    "// loop over hashmap key / values\n",
    "for ((x, y) <- vars)\n",
    "    println(\"K \" + x + \" V \" + y)"
   ]
  },
  {
   "cell_type": "markdown",
   "metadata": {},
   "source": [
    "# Scala Functions\n",
    "TODO move after vals\n",
    "TODO talk about return types, being optional but recommended, etc.\n",
    "TODO ???"
   ]
  },
  {
   "cell_type": "code",
   "execution_count": 27,
   "metadata": {},
   "outputs": [
    {
     "data": {
      "text/plain": [
       "defined \u001b[32mfunction\u001b[39m \u001b[36mmultBy2\u001b[39m\n",
       "defined \u001b[32mfunction\u001b[39m \u001b[36mf\u001b[39m"
      ]
     },
     "execution_count": 27,
     "metadata": {},
     "output_type": "execute_result"
    }
   ],
   "source": [
    "// simple scaling function, e.g., x2(3) => 6\n",
    "def multBy2(x: Int): Int = 2 * x\n",
    "\n",
    "// more complicated function with statements\n",
    "// TODO name\n",
    "def f(x: Int, y: Int): Int = {\n",
    "    val xy = x + y\n",
    "    if (x < y) xy else -xy\n",
    "}"
   ]
  },
  {
   "cell_type": "markdown",
   "metadata": {},
   "source": [
    "# Reading Scala:\n",
    "## Common patterns you will find in code"
   ]
  },
  {
   "cell_type": "markdown",
   "metadata": {},
   "source": [
    "# Packages\n",
    "\n",
    "```scala\n",
    "package mytools\n",
    "class Tool1 { ... }\n",
    "```\n",
    "This name can be used when referencing code defined in this file.  \n",
    "```scala\n",
    "import mytools.Tool1\n",
    "```\n",
    ">Note: The package name  **should** match the directory hierarchy, this is not mandatory but failing to abide by this guideline can produce some unusual and difficult to diagnose problems. Package names by convention are lower case and do not contain separators like underscore.  This sometimes makes good descriptive names difficult.  One approach is too add a layer of hierachy ```package good.tools```.  Do your best.  Chisel itself plays some games with the package names that do not conform to these rules."
   ]
  },
  {
   "cell_type": "markdown",
   "metadata": {},
   "source": [
    "# A Simple Class Example\n",
    "An example of creating a Scala class might be"
   ]
  },
  {
   "cell_type": "code",
   "execution_count": 30,
   "metadata": {},
   "outputs": [
    {
     "name": "stdout",
     "output_type": "stream",
     "text": [
      "counter created with max value 15\n"
     ]
    },
    {
     "data": {
      "text/plain": [
       "defined \u001b[32mclass\u001b[39m \u001b[36mWrapCounter\u001b[39m\n",
       "\u001b[36mw\u001b[39m: \u001b[32mwrapper\u001b[39m.\u001b[32mwrapper\u001b[39m.\u001b[32mWrapCounter\u001b[39m = $sess.cmd29Wrapper$Helper$WrapCounter@6317fc64\n",
       "\u001b[36mres29_2\u001b[39m: \u001b[32mLong\u001b[39m = \u001b[32m0L\u001b[39m"
      ]
     },
     "execution_count": 30,
     "metadata": {},
     "output_type": "execute_result"
    }
   ],
   "source": [
    "// TODO expand functions and vals\n",
    "class WrapCounter(counterBits: Int) {\n",
    "    // TODO move this oddness to another class\n",
    "    val maxBy2 = max * 2\n",
    "  val max: Long = (1 << counterBits) - 1\n",
    "  var counter = 0L\n",
    "  def inc(): Long = {\n",
    "    counter = counter + 1\n",
    "    if(counter > max) counter = 0\n",
    "    counter\n",
    "  }\n",
    "  println(s\"counter created with max value $max\")\n",
    "}\n",
    "val w = new WrapCounter(4)\n",
    "w.maxBy2"
   ]
  },
  {
   "cell_type": "markdown",
   "metadata": {},
   "source": [
    "# TODO FIX DOLLAR SIGN\n",
    "What is here:\n",
    "* ```class WrapCounter```: This is the definition of **WrapCounter**\n",
    "* ```(counterBits: Int)```: Creating MyCounter requires an integer argument, nicely named to suggest it is the bit width of the counter\n",
    "* braces ({}) delimit a block of code. Most classes use a code block to define variables and constants and methods (functions)\n",
    "* ```val max: Long =``` the class contains a member variable **max**, declared as ```Long``` and initialized as the class is created\n",
    "* ```(1 << counterBits) - 1``` computes the maximum value that can be contained in **counterBits** bits.  Since **max** was created with _val_ it cannot be changed.\n",
    "* a variable **counter** is created and initialized to **0L**, the **L** says that 0 is a long value and from this **counter** is inferred to be Long.\n",
    "* **max** and **counter** are commonly called _member variables_ of the class\n",
    "* a class method **inc** is defined which takes no arguments and returns a **Long** value\n",
    "* the body of the method **inc** is a code block that:\n",
    "  * ```counter = counter + 1``` increments **counter**\n",
    "  * ```if(counter > max) counter = 0``` tests if it is greater than the **max** value and sets it back to zero if it is\n",
    "  * ```counter``` the last line of the code block is important\n",
    "    * any value expressed at the last line of a code block is considered to be the return value of that code block, that return value can be used or ignore by the programmer\n",
    "    * this applies quite generally, for example since an if statement or and if then else statement defines its true and false clauses with code blocks the if itself can return a value\n",
    "    * for example ```val result = if( 10 * 10 > 90) { \"greater\" } else { \"lesser\" }``` would created a variable with the value \"greater\"\n",
    "  * so in this case the function **inc** returns the value of **counter**\n",
    "* ```println(s\"counter created with max value $max\")``` this prints a string to the standard out.  Because the **println** is directly in the defining code block it is part of the classes initialization code and is run, i.e. prints out the string, every time an instance of this class is created.\n",
    "* The string printed in this case is an _interpolated_ string\n",
    "  * the leading **s** in front of the first double quote identifies this as an interpolated\n",
    "  * an interpolated string is processed at run time  \n",
    "  * the **$max** is replaced with the value of max\n",
    "  * if the **$** is followed by a code block arbitrary scala can be in that code block\n",
    "    * for example **${max + max}**\n",
    "    * the return value of this code block will be inserted  in place of ${...}\n",
    "    * if the return value is not a string it will be converted to one, virtually every class or type in scala has implicit conversion to a string)\n",
    "  * it should be noted that classes that print something every time an instance is created is darned annoying and should avoided\n"
   ]
  },
  {
   "cell_type": "markdown",
   "metadata": {},
   "source": [
    "# Creating an instance of a class\n",
    "Let's use our example above to create a class.  Scala instances are created via the built-in magic keyword **new**"
   ]
  },
  {
   "cell_type": "code",
   "execution_count": 18,
   "metadata": {},
   "outputs": [
    {
     "name": "stdout",
     "output_type": "stream",
     "text": [
      "counter created with max value 15\n"
     ]
    },
    {
     "data": {
      "text/plain": [
       "\u001b[36mx\u001b[39m: \u001b[32mWrapCounter\u001b[39m = $sess.cmd16Wrapper$Helper$WrapCounter@6e36600e"
      ]
     },
     "execution_count": 18,
     "metadata": {},
     "output_type": "execute_result"
    }
   ],
   "source": [
    "val x = new WrapCounter(4)"
   ]
  },
  {
   "cell_type": "markdown",
   "metadata": {},
   "source": [
    "Now often in scala code one sees, instances being created without the keyword new, for example ```val y = WrapCounter(6)```\n",
    "This occurs often enough to merit special attention.  It is described later in the Advanced Chisel tutorial.\n"
   ]
  },
  {
   "cell_type": "markdown",
   "metadata": {},
   "source": [
    "# Code Blocks\n",
    "Code blocks are delimited by braces.  A block can contain zero or more lines of scala code. The last line of scala code becomes the return value (which may be ignored) of the code block.  A code block with no lines would return and special null-like object called Unit. Code blocks are used throughout scala, they are the bodies of class definitions, they form function and method definitions, they are the clauses of if statements, they are the bodies of for and many other scala operators.\n",
    "\n",
    "### Parameterized Code Blocks\n",
    "Code blocks can take parameters.  In the case of class and method definitions these parameters look fairly like most conventional programming languages.  In the example below ```c``` and ```s``` are parameters of the code block.\n"
   ]
  },
  {
   "cell_type": "code",
   "execution_count": 31,
   "metadata": {},
   "outputs": [
    {
     "data": {
      "text/plain": [
       "defined \u001b[32mfunction\u001b[39m \u001b[36madd1\u001b[39m\n",
       "defined \u001b[32mclass\u001b[39m \u001b[36mRepeatString\u001b[39m"
      ]
     },
     "execution_count": 31,
     "metadata": {},
     "output_type": "execute_result"
    }
   ],
   "source": [
    "def add1(c: Int): Int = {\n",
    "  c + 1\n",
    "}\n",
    "class RepeatString(s: String) {\n",
    "  val repeatedString = s + s\n",
    "}"
   ]
  },
  {
   "cell_type": "markdown",
   "metadata": {},
   "source": [
    "**IMPORTANT**: There is another way in which code blocks may be parameterized, it is visible all over the place in a scala program and I found it to be one of the scala constructs that took me a while to get used to.  Here are some examples"
   ]
  },
  {
   "cell_type": "code",
   "execution_count": 33,
   "metadata": {},
   "outputs": [
    {
     "data": {
      "text/plain": [
       "\u001b[36mintList\u001b[39m: \u001b[32mList\u001b[39m[\u001b[32mInt\u001b[39m] = \u001b[33mList\u001b[39m(\u001b[32m1\u001b[39m, \u001b[32m2\u001b[39m, \u001b[32m3\u001b[39m)\n",
       "\u001b[36mstringList\u001b[39m: \u001b[32mList\u001b[39m[\u001b[32mString\u001b[39m] = \u001b[33mList\u001b[39m(\u001b[32m\"1\"\u001b[39m, \u001b[32m\"2\"\u001b[39m, \u001b[32m\"3\"\u001b[39m)"
      ]
     },
     "execution_count": 33,
     "metadata": {},
     "output_type": "execute_result"
    }
   ],
   "source": [
    "val intList = List(1, 2, 3)\n",
    "val stringList = intList.map { i =>\n",
    "  i.toString\n",
    "}"
   ]
  },
  {
   "cell_type": "markdown",
   "metadata": {},
   "source": [
    "The code block is passed to a method map of the class List.  The map method requires that it's code block have a single parameter.  The code block is called for each member of list, the code block returns that parameter converted to a String. Scala is almost excessively accepting of variations of this syntax.  You might see this written in many different ways. Assuming intList is defined as above, all the following will return a list of string versions of the original integer listµ"
   ]
  },
  {
   "cell_type": "markdown",
   "metadata": {},
   "source": [
    "The goal again here is simply to help you recognize the different notational types when you encounter them.  As you use Scala these will seem more comfortable and familiar.  Authors tend to gravitate to particular styles and there are also individual syntactical situations in which one notation will seem more natural. One liners tend to use the more concise forms, complex blocks usually have a more narrative appearance."
   ]
  },
  {
   "cell_type": "markdown",
   "metadata": {},
   "source": [
    "# Named parameters\n",
    "When a method is defined in scala, for example\n",
    "```scala\n",
    "def myMethod(count: Int, wrap: Boolean, wrapValue: Int = 24): Unit = { ... }\n",
    "```\n",
    "When calling the method, you will often see the parameter names along with the passed in values\n",
    "```scala\n",
    "myMethod(count = 10, wrap = false, wrapValue = 23)\n",
    "```\n",
    "For frequently called methods, the parameter ordering may be obvious but for less common methods and, in particular, boolean arguments, including the names with calls can make your code a lot more readable.  Using named parameters can allow you to re-arrange arguments, and in combination with parameters that have a default value, can make it so the caller only has to pass (by name) the specific arguments that do not use the default value.  Parameters to class definitions also used this named argument scheme (they are actually just the parameters to the constructor method for the class)."
   ]
  },
  {
   "cell_type": "code",
   "execution_count": 21,
   "metadata": {},
   "outputs": [
    {
     "name": "stdout",
     "output_type": "stream",
     "text": [
      "my dog Rufus went to the Store\n"
     ]
    },
    {
     "data": {
      "text/plain": [
       "\u001b[36mdogsName\u001b[39m: \u001b[32mString\u001b[39m = \u001b[32m\"Rufus\"\u001b[39m\n",
       "\u001b[36mdestination\u001b[39m: \u001b[32mString\u001b[39m = \u001b[32m\"Store\"\u001b[39m"
      ]
     },
     "execution_count": 21,
     "metadata": {},
     "output_type": "execute_result"
    }
   ],
   "source": [
    "val (dogsName, destination) = (\"Rufus\", \"Store\")\n",
    "println(\"my dog \" + dogsName + \" went to the \" + destination)"
   ]
  },
  {
   "cell_type": "markdown",
   "metadata": {},
   "source": [
    "But there are a lot of more alternative (possibly more elegant ways) to do the same thing.  The first is the **s** string interpolator.  When a string begins with **s\"** any occurrences of a dollar sign followed by a scala variable, or a dollar sign followed by a code block, will have that replaced by the string value of the variable or block.  For our previous example we could make this "
   ]
  },
  {
   "cell_type": "markdown",
   "metadata": {},
   "source": [
    "```scala\n",
    "println(s\"my dog $dogsName went to the $destination\")\n",
    "```\n"
   ]
  },
  {
   "cell_type": "markdown",
   "metadata": {},
   "source": [
    "As an example of using a code block, let's assume we have a list and we'd like to print this out with each animal capitalized. \n",
    "\n",
    "## TODO \"\"\" \"\"\""
   ]
  },
  {
   "cell_type": "code",
   "execution_count": 22,
   "metadata": {},
   "outputs": [
    {
     "name": "stdout",
     "output_type": "stream",
     "text": [
      "Animal list Dog -- Cat -- Fox\n"
     ]
    },
    {
     "data": {
      "text/plain": [
       "\u001b[36maList\u001b[39m: \u001b[32mList\u001b[39m[\u001b[32mString\u001b[39m] = \u001b[33mList\u001b[39m(\u001b[32m\"dog\"\u001b[39m, \u001b[32m\"cat\"\u001b[39m, \u001b[32m\"fox\"\u001b[39m)"
      ]
     },
     "execution_count": 22,
     "metadata": {},
     "output_type": "execute_result"
    }
   ],
   "source": [
    "val aList = List(\"dog\", \"cat\", \"fox\")\n",
    "println(s\"Animal list ${aList.map(s => s.capitalize).mkString(\" -- \")}\")\n"
   ]
  },
  {
   "cell_type": "markdown",
   "metadata": {},
   "source": [
    "We used the ${...} to execute some scala code on that list.  map converts the list to a new list in which each word has been capitalized, then that new list is changed into a string by taking each element and joining it to the others with the string \" -- \" between each element.\n",
    "\n",
    "Another less commonly used interpolator is the **f** which allows printf style formatting specifiers to be included at each interpolation point."
   ]
  },
  {
   "cell_type": "code",
   "execution_count": 23,
   "metadata": {},
   "outputs": [
    {
     "name": "stdout",
     "output_type": "stream",
     "text": [
      "    22 blink                                     77\n"
     ]
    },
    {
     "data": {
      "text/plain": [
       "defined \u001b[32mclass\u001b[39m \u001b[36mPerson\u001b[39m\n",
       "\u001b[36mlineNumber\u001b[39m: \u001b[32mInt\u001b[39m = \u001b[32m22\u001b[39m\n",
       "\u001b[36mperson\u001b[39m: \u001b[32mPerson\u001b[39m = \u001b[33mPerson\u001b[39m(\u001b[32m\"blink\"\u001b[39m, \u001b[32m77\u001b[39m)"
      ]
     },
     "execution_count": 23,
     "metadata": {},
     "output_type": "execute_result"
    }
   ],
   "source": [
    "case class Person(name: String, age: Int)\n",
    "\n",
    "val (lineNumber, person) = (22, Person(\"blink\", 77))\n",
    "println(f\"$lineNumber%6d ${person.name}%-40s ${person.age}%3d\")\n"
   ]
  },
  {
   "cell_type": "markdown",
   "metadata": {},
   "source": [
    "Can be used to make some columns that line up nicely.  Scala does have printf too if you really need it.  But be a little careful with that Chisel provides it's own version of printf specifically for debug printing inside an executing simulation.\n"
   ]
  }
 ],
 "metadata": {
  "kernelspec": {
   "display_name": "Scala",
   "language": "scala",
   "name": "scala"
  },
  "language_info": {
   "codemirror_mode": "text/x-scala",
   "file_extension": ".scala",
   "mimetype": "text/x-scala",
   "name": "scala211",
   "nbconvert_exporter": "script",
   "pygments_lexer": "scala",
   "version": "2.11.11"
  }
 },
 "nbformat": 4,
 "nbformat_minor": 1
}
